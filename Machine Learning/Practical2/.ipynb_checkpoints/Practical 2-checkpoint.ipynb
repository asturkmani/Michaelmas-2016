{
 "cells": [
  {
   "cell_type": "code",
   "execution_count": 9,
   "metadata": {
    "collapsed": false
   },
   "outputs": [],
   "source": [
    "import cPickle as cp\n",
    "import numpy as np\n",
    "import matplotlib.pyplot as plt\n",
    "from sklearn.preprocessing import normalize\n",
    "\n",
    "from sklearn.datasets import load_iris\n",
    "iris = load_iris()\n",
    "Xir, yir = iris['data'], iris['target']\n",
    "\n",
    "Xv, yv = cp.load(open('voting.cPickle', 'rb'))\n",
    "# nbc = NBC()\n"
   ]
  },
  {
   "cell_type": "code",
   "execution_count": 12,
   "metadata": {
    "collapsed": false
   },
   "outputs": [
    {
     "name": "stdout",
     "output_type": "stream",
     "text": [
      "1.0\n"
     ]
    }
   ],
   "source": []
  },
  {
   "cell_type": "code",
   "execution_count": 8,
   "metadata": {
    "collapsed": false
   },
   "outputs": [],
   "source": [
    "class NBC:\n",
    "    \n",
    "    def __init__(self, feature_types, num_classes):\n",
    "        self.feature_types = feature_types\n",
    "        self.num_classes = num_classes\n",
    "        self.pis = np.zeros(num_classes)\n",
    "        self.theta = []\n",
    "        self.classValue = []\n",
    "        self.classNumber = []\n",
    "        \n",
    "    def fit(self):\n",
    "        \n",
    "        # =================== SET UP ===================== #\n",
    "        #count occurence of unique classes, produce piC by dividing counts by total number of observations\n",
    "        classValue, classCount = np.unique(ytrain, return_counts=True)\n",
    "        #classNumber = range(len(classValue))\n",
    "        Nobservations = len(ytrain)\n",
    "        self.pis = classCount/float(Nobservations)\n",
    "        \n",
    "        # if all features have the same data type, insert it once and replicate\n",
    "        if len(self.feature_types) == 1:\n",
    "            self.feature_types == self.feature_types[0] * Xtrain.shape[1]\n",
    "            \n",
    "        # thetas is a list of all the models we're building for each possible feature\n",
    "        thetas = []\n",
    "        \n",
    "        # =================== BUILDING MODELS FOR EACH FEATURE ===================== #\n",
    "        for indexFeature in range(0,len(self.feature_types)):\n",
    "            feature_type = self.feature_types[indexFeature]\n",
    "            \n",
    "            # =================== IF BINARY FEATURE ===================== #\n",
    "            if feature_type == 'b':\n",
    "                \n",
    "                #create matrix to store count of all values of the feature (2 in this case) vs. all classes\n",
    "                thetaBernouli = np.zeros(num_classes,2)\n",
    "                for cl in range(0,num_classes):  \n",
    "                    \n",
    "                    #get indices of rows corresponding to each class\n",
    "                    indicesClass = ytrain == classValue[cl]\n",
    "                    \n",
    "                    #get rows of train matrix where y=C\n",
    "                    XtrainC = Xtrain[indicesClass.T,indexFeature]\n",
    "                    \n",
    "                    #now we have all the rows of the current feature that belong to class cl \n",
    "                    # count number of occurences of 0's of feature[indexFeature] and 1's\n",
    "                    featureV, featureFreq = np.unique(XtrainC, return_counts=True)\n",
    "                    \n",
    "                    thetaBernouli[cl,0] = featureFreq[0]\n",
    "                    thetaBernouli[cl,1] = featureFreq[1]\n",
    "                    \n",
    "                #normalize w.r.t class and append to theta\n",
    "                thetas.append(normalize(thetaBernouli, axis=1, norm='l1'))\n",
    "                \n",
    "                \n",
    "            # =================== IF REAL-VALUED FEATURE ===================== #\n",
    "            \n",
    "\n",
    "            elif feature_type == 'r' :\n",
    "                \n",
    "                #create matrix to store mean and std of each feature vs. all classes                \n",
    "                thetaReal = np.zeros(num_classes,2)\n",
    "                \n",
    "                for cl in range(0,num_classes):\n",
    "                    \n",
    "                    #get indices of rows corresponding to each class\n",
    "                    indicesClass = ytrain == classValue[cl]\n",
    "                    \n",
    "                    #get rows of train matrix where y=C\n",
    "                    XtrainC = Xtrain[indicesClass.T,indexFeature]\n",
    "                    \n",
    "                    #now we have all the rows of the current feature that belong to class cl \n",
    "                    # compute mean and variance of feature[indexFeature]\n",
    "                    \n",
    "                    meanX = XtrainC.mean()\n",
    "                    stdX = XtrainC.std()\n",
    "                    \n",
    "                    thetaReal[cl,0] = meanX\n",
    "                    thetaReal[cl,0] = stdX\n",
    "                    \n",
    "                thetas.append(thetaReal)\n",
    "                    \n",
    "        \n",
    "    def predict(Xtest):\n",
    "        self.x=1\n",
    "        "
   ]
  },
  {
   "cell_type": "code",
   "execution_count": 121,
   "metadata": {
    "collapsed": false
   },
   "outputs": [
    {
     "name": "stdout",
     "output_type": "stream",
     "text": [
      "[[ 0.4         0.6       ]\n",
      " [ 0.42857143  0.57142857]]\n"
     ]
    }
   ],
   "source": [
    "a = np.array([[20,30],[15,20]])\n",
    "normed_matrix = normalize(a, axis=1, norm='l1')\n",
    "\n",
    "print normed_matrix"
   ]
  },
  {
   "cell_type": "code",
   "execution_count": 106,
   "metadata": {
    "collapsed": false
   },
   "outputs": [
    {
     "name": "stdout",
     "output_type": "stream",
     "text": [
      "1.0\n"
     ]
    }
   ],
   "source": [
    "# print Xir[tuple(yir == 0),:]\n",
    "# print \"===\"\n",
    "# print Xir[:,0:1]\n",
    "# print \"===\"\n",
    "# print yir\n",
    "# a = yir==0\n",
    "# # print a.T\n",
    "# print Xir[a.T,0]\n",
    "\n",
    "# ['b'] * 4\n",
    "\n",
    "thetas = []\n",
    "\n",
    "thetas.append(np.zeros([2,2]))\n",
    "thetas.append(np.ones([2,2]))\n",
    "print thetas[1][1,1]"
   ]
  },
  {
   "cell_type": "code",
   "execution_count": null,
   "metadata": {
    "collapsed": true
   },
   "outputs": [],
   "source": []
  }
 ],
 "metadata": {
  "anaconda-cloud": {},
  "kernelspec": {
   "display_name": "Python [conda root]",
   "language": "python",
   "name": "conda-root-py"
  },
  "language_info": {
   "codemirror_mode": {
    "name": "ipython",
    "version": 2
   },
   "file_extension": ".py",
   "mimetype": "text/x-python",
   "name": "python",
   "nbconvert_exporter": "python",
   "pygments_lexer": "ipython2",
   "version": "2.7.12"
  }
 },
 "nbformat": 4,
 "nbformat_minor": 1
}
