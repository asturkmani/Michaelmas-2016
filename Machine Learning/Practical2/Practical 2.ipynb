{
 "cells": [
  {
   "cell_type": "code",
   "execution_count": 1,
   "metadata": {
    "collapsed": false
   },
   "outputs": [
    {
     "name": "stderr",
     "output_type": "stream",
     "text": [
      "/Users/asturkmani/anaconda/lib/python2.7/site-packages/matplotlib/font_manager.py:273: UserWarning: Matplotlib is building the font cache using fc-list. This may take a moment.\n",
      "  warnings.warn('Matplotlib is building the font cache using fc-list. This may take a moment.')\n"
     ]
    }
   ],
   "source": [
    "import cPickle as cp\n",
    "import numpy as np\n",
    "import matplotlib.pyplot as plt\n",
    "from sklearn.preprocessing import normalize\n",
    "\n",
    "from sklearn.datasets import load_iris\n",
    "iris = load_iris()\n",
    "Xir, yir = iris['data'], iris['target']\n",
    "\n",
    "Xv, yv = cp.load(open('voting.cPickle', 'rb'))\n",
    "# nbc = NBC()\n"
   ]
  },
  {
   "cell_type": "code",
   "execution_count": 5,
   "metadata": {
    "collapsed": false
   },
   "outputs": [
    {
     "ename": "IndentationError",
     "evalue": "expected an indented block (<ipython-input-5-89566f7d6775>, line 5)",
     "output_type": "error",
     "traceback": [
      "\u001b[0;36m  File \u001b[0;32m\"<ipython-input-5-89566f7d6775>\"\u001b[0;36m, line \u001b[0;32m5\u001b[0m\n\u001b[0;31m    def fit(Xtrain, ytrain):\u001b[0m\n\u001b[0m      ^\u001b[0m\n\u001b[0;31mIndentationError\u001b[0m\u001b[0;31m:\u001b[0m expected an indented block\n"
     ]
    }
   ],
   "source": [
    "class NBC():\n",
    "    #initialize all parameters to 0\n",
    "    def __init__(self, feature_types, num_classes):\n",
    "    \n",
    "    def fit(Xtrain, ytrain):\n",
    "        \n",
    "    def predict(Xtest):\n",
    "    "
   ]
  },
  {
   "cell_type": "code",
   "execution_count": 176,
   "metadata": {
    "collapsed": false
   },
   "outputs": [
    {
     "ename": "SyntaxError",
     "evalue": "invalid syntax (<ipython-input-176-fee0da127ece>, line 54)",
     "output_type": "error",
     "traceback": [
      "\u001b[0;36m  File \u001b[0;32m\"<ipython-input-176-fee0da127ece>\"\u001b[0;36m, line \u001b[0;32m54\u001b[0m\n\u001b[0;31m    else:\u001b[0m\n\u001b[0m       ^\u001b[0m\n\u001b[0;31mSyntaxError\u001b[0m\u001b[0;31m:\u001b[0m invalid syntax\n"
     ]
    }
   ],
   "source": [
    "class NBC():\n",
    "    \n",
    "    #initialize all parameters to 0\n",
    "    def __init__(self, feature_types, num_classes):\n",
    "        self.feature_types = feature_types\n",
    "        self.num_classes = num_classes\n",
    "        self.pis = np.zeros(num_classes)\n",
    "        self.theta = []\n",
    "        self.classValue = []\n",
    "        self.classNumber = []\n",
    "    \n",
    "    #fit the training data and all the parameters\n",
    "    #first fill out self.pis = [p(C1) p(C2) .. P(Cn)] where p(Ci) = NCi/N\n",
    "    \n",
    "    #next fill out theta where theta is:\n",
    "    #            C1            C2         C3 ..    Cn\n",
    "    #   x1=T    p(x1=T|C1)  p(x1=T|C2)  ..\n",
    "    #   x1=F    p(x1=F|C1)  p(x1=F|C2)  ..\n",
    "    # and p(xi/Ci) = NCi where xi\n",
    "                               \n",
    "    def fit(Xtrain, ytrain):\n",
    "        #count occurence of unique classes, produce piC by dividing counts by total number of observations\n",
    "        classValue, classCount = np.unique(ytrain, return_counts=True)\n",
    "        #classNumber = range(len(classValue))\n",
    "        Nobservations = len(ytrain)\n",
    "        self.pis = classCount/float(Nobservations)\n",
    "        \n",
    "        # if all features have the same data type, insert it once and replicate\n",
    "        if len(self.feature_types) == 1:\n",
    "            self.feature_types == self.feature_types[0] * Xtrain.shape[1]\n",
    "        \n",
    "        \n",
    "        #fill the theta list of numpy matrices\n",
    "        #each matrix contains the probability for each feature X class table if binary or multivariate\n",
    "        #or the mean/variance table for each continous feature X class table\n",
    "        \n",
    "        thetas = []\n",
    "        for indexFeature in range(0,len(self.feature_types)):\n",
    "            feature_type = self.feature_types[indexFeature]\n",
    "            if feature_type == 'b':\n",
    "                thetaBernouli = np.zeros(num_classes,2)\n",
    "                for cl in range(0,num_classes):  \n",
    "                    #get indices of rows corresponding to each class\n",
    "                    indicesClass = ytrain == classValue[cl]\n",
    "                    #get rows of train matrix where y=C\n",
    "                    XtrainC = Xtrain[indicesClass.T,indexFeature]\n",
    "                    #now we have all the rows of feature indexFeature that belong to class cl \n",
    "                    # count number of occurences of 0's of feature[indexFeature] and 1's\n",
    "                    featureV, featureFreq = np.unique(XtrainC, return_counts=True)\n",
    "                    thetaBernouli[cl,0] = featureFreq[0]\n",
    "                    thetaBernouli[cl,1] = featureFreq[1]\n",
    "                #normalize w.r.t class and append to theta\n",
    "            thetas.append(normalize(thetaBernouli, axis=1, norm='l1'))\n",
    "            else:\n",
    "                x=2\n",
    "    def predict(Xtest):\n",
    "        "
   ]
  },
  {
   "cell_type": "code",
   "execution_count": 121,
   "metadata": {
    "collapsed": false
   },
   "outputs": [
    {
     "name": "stdout",
     "output_type": "stream",
     "text": [
      "[[ 0.4         0.6       ]\n",
      " [ 0.42857143  0.57142857]]\n"
     ]
    }
   ],
   "source": [
    "a = np.array([[20,30],[15,20]])\n",
    "normed_matrix = normalize(a, axis=1, norm='l1')\n",
    "\n",
    "print normed_matrix"
   ]
  },
  {
   "cell_type": "code",
   "execution_count": 106,
   "metadata": {
    "collapsed": false
   },
   "outputs": [
    {
     "name": "stdout",
     "output_type": "stream",
     "text": [
      "1.0\n"
     ]
    }
   ],
   "source": [
    "# print Xir[tuple(yir == 0),:]\n",
    "# print \"===\"\n",
    "# print Xir[:,0:1]\n",
    "# print \"===\"\n",
    "# print yir\n",
    "# a = yir==0\n",
    "# # print a.T\n",
    "# print Xir[a.T,0]\n",
    "\n",
    "# ['b'] * 4\n",
    "\n",
    "thetas = []\n",
    "\n",
    "thetas.append(np.zeros([2,2]))\n",
    "thetas.append(np.ones([2,2]))\n",
    "print thetas[1][1,1]"
   ]
  },
  {
   "cell_type": "code",
   "execution_count": null,
   "metadata": {
    "collapsed": true
   },
   "outputs": [],
   "source": []
  }
 ],
 "metadata": {
  "anaconda-cloud": {},
  "kernelspec": {
   "display_name": "Python [conda root]",
   "language": "python",
   "name": "conda-root-py"
  },
  "language_info": {
   "codemirror_mode": {
    "name": "ipython",
    "version": 2
   },
   "file_extension": ".py",
   "mimetype": "text/x-python",
   "name": "python",
   "nbconvert_exporter": "python",
   "pygments_lexer": "ipython2",
   "version": "2.7.12"
  }
 },
 "nbformat": 4,
 "nbformat_minor": 1
}
